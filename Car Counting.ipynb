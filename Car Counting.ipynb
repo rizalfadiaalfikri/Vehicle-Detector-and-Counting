{
 "cells": [
  {
   "cell_type": "code",
   "execution_count": 3,
   "metadata": {},
   "outputs": [],
   "source": [
    "import os\n",
    "import cv2\n",
    "import matplotlib.pyplot as plt\n",
    "import numpy as np"
   ]
  },
  {
   "cell_type": "code",
   "execution_count": 11,
   "metadata": {},
   "outputs": [],
   "source": [
    "car_cascade = cv2.CascadeClassifier('haarcascades/cars.xml')\n",
    "\n",
    "cap = cv2.VideoCapture(\"cars_video.mp4\")\n",
    "\n",
    "count = 0\n",
    "prev_y = 0\n",
    "direction = \"\"\n",
    "while cap.isOpened():\n",
    "    ret, frame = cap.read()\n",
    "    if not ret:\n",
    "        break\n",
    "    frame = cv2.resize(frame, (0,0), fx=0.5, fy=0.5)\n",
    "    h, w, c = frame.shape\n",
    "    x1, y1, x2, y2 = int(w*0.1), int(h*0.7), int(w*0.9), int(h*0.7)\n",
    "    \n",
    "    gray = cv2.cvtColor(frame, cv2.COLOR_BGR2GRAY)\n",
    "    cars = car_cascade.detectMultiScale(gray, minNeighbors=5)\n",
    "    for (x, y, w, h) in cars:\n",
    "        cv2.rectangle(frame,(x,y),(x+w,y+h),(0,255,255),2)\n",
    "        cy = (y+h//2)\n",
    "        if (y1 - 30) < cy and (y1 + 30) > cy and abs(prev_y - cy) > 20:\n",
    "            count +=1\n",
    "            if prev_y > cy :\n",
    "                direction = \"up\"\n",
    "            else :\n",
    "                direction = \"down\"\n",
    "            prev_y = cy\n",
    "\n",
    "    cv2.line(frame, (x1, y1), (x2, y2), (255, 0, 255), 2)\n",
    "    cv2.putText(frame, \"Vehicle Count : %d | Direction : %s\" % (count, direction), (50, 50), cv2.FONT_HERSHEY_SIMPLEX, 0.7, (0, 255, 255), 1, cv2.LINE_AA)  \n",
    "    cv2.imshow('Detect Cars', frame)\n",
    "    \n",
    "    if cv2.waitKey(1) == ord('q'):\n",
    "        break\n",
    "cv2.destroyAllWindows()"
   ]
  },
  {
   "cell_type": "code",
   "execution_count": 18,
   "metadata": {},
   "outputs": [],
   "source": [
    "car_cascade = cv2.CascadeClassifier('haarcascades/cars.xml')\n",
    "\n",
    "cap = cv2.VideoCapture(\"Traffic.mp4\")\n",
    "\n",
    "count = 0\n",
    "prev_y = 0\n",
    "while cap.isOpened():\n",
    "    ret, frame = cap.read()\n",
    "    if not ret:\n",
    "        break\n",
    "    frame = cv2.resize(frame, (0,0), fx=0.5, fy=0.5)\n",
    "    h, w, c = frame.shape\n",
    "    x1, y1, x2, y2 = int(w*0.1), int(h*0.5), int(w*0.9), int(h*0.5)\n",
    "    \n",
    "    gray = cv2.cvtColor(frame, cv2.COLOR_BGR2GRAY)\n",
    "    cars = car_cascade.detectMultiScale(gray,  minNeighbors=3)\n",
    "    for (x, y, w, h) in cars:\n",
    "        cv2.rectangle(frame,(x,y),(x+w,y+h),(0,255,255),2)\n",
    "        \n",
    "        cy = (y+h//2)\n",
    "        if (y1 - 30) < cy and (y1 + 30) > cy and abs(prev_y - cy) > 20:\n",
    "            count +=1\n",
    "            prev_y = cy\n",
    "\n",
    "    cv2.line(frame, (x1, y1), (x2, y2), (255, 0, 255), 4)\n",
    "    cv2.putText(frame, \"Vehicle Count : %d\" % count, (50, 50), cv2.FONT_HERSHEY_SIMPLEX, 0.7, (0, 255, 255), 1, cv2.LINE_AA)  \n",
    "    cv2.imshow('Detect Cars', frame)\n",
    "    \n",
    "    if cv2.waitKey(5) == ord('q'):\n",
    "        break\n",
    "cv2.destroyAllWindows()"
   ]
  },
  {
   "cell_type": "code",
   "execution_count": null,
   "metadata": {},
   "outputs": [],
   "source": []
  },
  {
   "cell_type": "code",
   "execution_count": null,
   "metadata": {},
   "outputs": [],
   "source": []
  }
 ],
 "metadata": {
  "kernelspec": {
   "display_name": "Python [conda env:belajar_cv]",
   "language": "python",
   "name": "conda-env-belajar_cv-py"
  },
  "language_info": {
   "codemirror_mode": {
    "name": "ipython",
    "version": 3
   },
   "file_extension": ".py",
   "mimetype": "text/x-python",
   "name": "python",
   "nbconvert_exporter": "python",
   "pygments_lexer": "ipython3",
   "version": "3.8.0"
  },
  "varInspector": {
   "cols": {
    "lenName": 16,
    "lenType": 16,
    "lenVar": 40
   },
   "kernels_config": {
    "python": {
     "delete_cmd_postfix": "",
     "delete_cmd_prefix": "del ",
     "library": "var_list.py",
     "varRefreshCmd": "print(var_dic_list())"
    },
    "r": {
     "delete_cmd_postfix": ") ",
     "delete_cmd_prefix": "rm(",
     "library": "var_list.r",
     "varRefreshCmd": "cat(var_dic_list()) "
    }
   },
   "types_to_exclude": [
    "module",
    "function",
    "builtin_function_or_method",
    "instance",
    "_Feature"
   ],
   "window_display": false
  }
 },
 "nbformat": 4,
 "nbformat_minor": 4
}
